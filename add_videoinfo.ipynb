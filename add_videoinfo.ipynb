{
 "cells": [
  {
   "cell_type": "markdown",
   "metadata": {},
   "source": [
    "# Explore Youtube 8 Million dataset\n",
    "\n",
    "## Retrieve video meta-data"
   ]
  },
  {
   "cell_type": "code",
   "execution_count": 125,
   "metadata": {},
   "outputs": [],
   "source": [
    "import re\n",
    "import os\n",
    "import pandas as pd\n",
    "import numpy as np\n",
    "import tensorflow as tf\n",
    "import youtube_dl\n",
    "# from IPython.display import YouTubeVide\n"
   ]
  },
  {
   "cell_type": "code",
   "execution_count": 137,
   "metadata": {},
   "outputs": [],
   "source": [
    "# list all the tfrecord files for video-level training data\n",
    "arr = os.listdir(\"./frame-level\")\n",
    "r = re.compile(\".+\\\\.tfrecord$\")\n",
    "video_train = sorted(list(filter(r.match, arr)))\n",
    "video_train = list(map(lambda orig_string: \"./frame-level/\" + orig_string, video_train))\n",
    "record_num =list(map(lambda x: re.findall(r\"\\d+\", x),video_train))\n",
    "record_num = np.array(record_num).flatten()\n"
   ]
  },
  {
   "cell_type": "code",
   "execution_count": 139,
   "metadata": {},
   "outputs": [],
   "source": [
    "import urllib.request\n",
    "import re\n",
    "\n",
    "\n",
    "# construct a URI like  URL data.yt8m.org/AB/ABCD.js\n",
    "# map the pesudo random id to the real youtub id\n",
    "def get_real_id(pesudo_id):\n",
    "    url = \"http://data.yt8m.org/2/j/i/{}/{}.js\".format(pesudo_id[0:2], pesudo_id)\n",
    "    response = urllib.request.urlopen(url).read().decode()\n",
    "    real_id = response.split(\",\")[-1][1:-3]\n",
    "    return real_id\n",
    "\n",
    "\n",
    "# This function collects the data provided by youtube-dl based on the real Youtubeid\n",
    "def get_video_metadata(real_id):\n",
    "    url = \"https://www.youtube.com/watch?v=\" + real_id\n",
    "    ydl = youtube_dl.YoutubeDL()\n",
    "    result = ydl.extract_info(url, download=False)\n",
    "    fields = [\n",
    "        \"title\",\n",
    "        \"categories\",\n",
    "        \"tags\",\n",
    "        \"description\",\n",
    "        \"is_live\",\n",
    "        \"view_count\",\n",
    "        \"like_count\",\n",
    "        \"channel_url\",\n",
    "        \"duration\",\n",
    "        \"average_rating\",\n",
    "        \"age_limit\",\n",
    "        \"webpage_url\",\n",
    "    ]\n",
    "    video_metadata = [result[field] for field in fields]\n",
    "    return video_metadata\n"
   ]
  },
  {
   "cell_type": "code",
   "execution_count": 140,
   "metadata": {},
   "outputs": [
    {
     "name": "stdout",
     "output_type": "stream",
     "text": [
      "[youtube] J4Wdy0Wc_xQ: Downloading webpage\n",
      "available metadata:\n",
      " id, title, formats, thumbnails, description, upload_date, uploader, uploader_id, uploader_url, channel_id, channel_url, duration, view_count, average_rating, age_limit, webpage_url, categories, tags, is_live, automatic_captions, subtitles, chapters, like_count, channel, extractor, webpage_url_basename, extractor_key, playlist, playlist_index, thumbnail, display_id, requested_subtitles, requested_formats, format, format_id, width, height, resolution, fps, vcodec, vbr, stretched_ratio, acodec, abr, ext, \n"
     ]
    }
   ],
   "source": [
    "url = \"https://www.youtube.com/watch?v=J4Wdy0Wc_xQ\"\n",
    "ydl = youtube_dl.YoutubeDL()\n",
    "result = ydl.extract_info(url, download=False)\n",
    "fields = \"\"\n",
    "for i in result.keys():\n",
    "    fields += i + \", \"\n",
    "print(\"available metadata:\\n\", fields)\n"
   ]
  },
  {
   "cell_type": "code",
   "execution_count": 141,
   "metadata": {},
   "outputs": [
    {
     "name": "stdout",
     "output_type": "stream",
     "text": [
      "[youtube] CXg4IMG3e7k: Downloading webpage\n",
      "[youtube] koPinjfqp9w: Downloading webpage\n",
      "[youtube] koPinjfqp9w: Downloading MPD manifest\n",
      "[youtube] tLxlqIXkc7A: Downloading webpage\n",
      "[youtube] tLxlqIXkc7A: Downloading MPD manifest\n",
      "(3, 16)\n",
      "[youtube] _DZhdk6IFTw: Downloading webpage\n",
      "[youtube] _DZhdk6IFTw: Downloading MPD manifest\n",
      "[youtube] PSzzpLGFzs4: Downloading webpage\n",
      "[youtube] Cyx-UJAXZrg: Downloading webpage\n",
      "[youtube] Cyx-UJAXZrg: Downloading MPD manifest\n",
      "(3, 16)\n",
      "[youtube] E6yOEaHaOSE: Downloading webpage\n",
      "[youtube] tzvZpG-QbUA: Downloading webpage\n",
      "[youtube] tzvZpG-QbUA: Downloading MPD manifest\n",
      "[youtube] Fa7aaJ-yWgs: Downloading webpage\n",
      "(3, 16)\n",
      "[youtube] TGDyx23lLNA: Downloading webpage\n",
      "[youtube] TGDyx23lLNA: Downloading MPD manifest\n",
      "[youtube] 43_fYApnHbs: Downloading webpage\n",
      "[youtube] e6W0tHusof4: Downloading webpage\n",
      "(3, 16)\n",
      "[youtube] i6-Db8Lcypg: Downloading webpage\n",
      "[youtube] CfTnX7S4Jvs: Downloading webpage\n",
      "[youtube] NbsYM9_ClGI: Downloading webpage\n",
      "(3, 16)\n",
      "[youtube] TcXg8DCgi7U: Downloading webpage\n",
      "[youtube] -Pnji1-okds: Downloading webpage\n",
      "[youtube] pRRQ8xyD3P8: Downloading webpage\n",
      "(3, 16)\n",
      "[youtube] p5lwS_fUUzc: Downloading webpage\n",
      "[youtube] t_I-gmCMnMM: Downloading webpage\n",
      "[youtube] t_I-gmCMnMM: Downloading MPD manifest\n",
      "[youtube] Tbo_HKXdwzQ: Downloading webpage\n",
      "(3, 16)\n",
      "[youtube] y3UOL9lq36I: Downloading webpage\n",
      "[youtube] y3UOL9lq36I: Downloading MPD manifest\n",
      "[youtube] ns3a0IuTY_Y: Downloading webpage\n"
     ]
    },
    {
     "name": "stderr",
     "output_type": "stream",
     "text": [
      "ERROR: Private video\n",
      "Sign in if you've been granted access to this video\n"
     ]
    },
    {
     "name": "stdout",
     "output_type": "stream",
     "text": [
      "[youtube] ziY3jVVR4VE: Downloading webpage\n",
      "(3, 16)\n",
      "[youtube] AFFpf6Tb9wk: Downloading webpage\n",
      "[youtube] fZuoPoq-UsQ: Downloading webpage\n",
      "[youtube] 7RSahADt_hs: Downloading webpage\n",
      "(3, 16)\n",
      "[youtube] OR4T0d2n1F4: Downloading webpage\n",
      "[youtube] px7V6H8F5Ew: Downloading webpage\n",
      "[youtube] px7V6H8F5Ew: Downloading MPD manifest\n",
      "[youtube] bQ4Wdm4--es: Downloading webpage\n",
      "(3, 16)\n"
     ]
    }
   ],
   "source": [
    "k = 0\n",
    "\n",
    "# Create the pandas DataFrame\n",
    "col_names = [\n",
    "    \"title\",\n",
    "    \"categories\",\n",
    "    \"tags\",\n",
    "    \"description\",\n",
    "    \"is_live\",\n",
    "    \"view_count\",\n",
    "    \"like_count\",\n",
    "    \"channel_url\",\n",
    "    \"duration\",\n",
    "    \"average_rating\",\n",
    "    \"age_limit\",\n",
    "    \"webpage_url\",\n",
    "]\n",
    "\n",
    "for k in range(10):\n",
    "    video_train_i = video_train[k]\n",
    "\n",
    "\n",
    "    # for video_train_i in video_train[:10]:\n",
    "    puesdo_ids = []\n",
    "    real_ids = []\n",
    "    labels = []\n",
    "    all_rgbs = []\n",
    "    all_audios = []\n",
    "    video_metadata_list = []\n",
    "\n",
    "    for raw_record in tf.data.TFRecordDataset(video_train_i).take(3):\n",
    "        tf_example = tf.train.SequenceExample()\n",
    "        rt = tf_example.ParseFromString(raw_record.numpy())\n",
    "        # exract features\n",
    "        vid_id = (\n",
    "            tf_example.context.feature[\"id\"].bytes_list.value[0].decode(encoding=\"UTF-8\")\n",
    "        )\n",
    "        puesdo_ids.append(vid_id)\n",
    "        labels.append(tf_example.context.feature[\"labels\"].int64_list.value)\n",
    "\n",
    "        # extract rgb and audio feature at each frame\n",
    "\n",
    "        ty = len(tf_example.feature_lists.feature_list[\"rgb\"].feature)\n",
    "        rgb = np.zeros((ty, 1024))\n",
    "        audio = np.zeros((ty, 128))\n",
    "        for i in range(ty):\n",
    "            rgb[i] = tf.io.decode_raw(\n",
    "                tf_example.feature_lists.feature_list[\"rgb\"].feature[i].bytes_list.value[0],\n",
    "                tf.uint8,\n",
    "            )  # .numpy()\n",
    "\n",
    "            audio[i] = tf.io.decode_raw(\n",
    "                tf_example.feature_lists.feature_list[\"audio\"]\n",
    "                .feature[i]\n",
    "                .bytes_list.value[0],\n",
    "                tf.uint8,\n",
    "            )  # .numpy()\n",
    "\n",
    "        all_rgbs.append(rgb)\n",
    "        all_audios.append(audio)\n",
    "\n",
    "        # get video metadata\n",
    "        try:\n",
    "            real_id = get_real_id(vid_id)\n",
    "            # Get the youtube-dl valuable metadata\n",
    "            metadata = get_video_metadata(real_id)\n",
    "        except:\n",
    "            real_id = np.nan\n",
    "            metadata = [np.nan for i in range(12)]\n",
    "\n",
    "        real_ids.append(real_id)\n",
    "        video_metadata_list.append(metadata)\n",
    "\n",
    "        \n",
    "    df = pd.DataFrame(video_metadata_list, columns=col_names)\n",
    "    df.insert(0, \"puesdo_id\", puesdo_ids)\n",
    "    df.insert(1, \"real_id\", real_ids)\n",
    "    df[\"rgb_by_frame\"] = all_rgbs\n",
    "    df[\"audio_by_frame\"] = all_audios\n",
    "    df = df.fillna(value=np.nan)\n",
    "    print(df.shape)\n",
    "\n",
    "    df.to_csv(\"./frame-with-metadata/%srecord.csv\"%record_num[k])\n",
    "\n",
    "# df.head()\n",
    "\n"
   ]
  },
  {
   "cell_type": "markdown",
   "metadata": {},
   "source": []
  }
 ],
 "metadata": {
  "interpreter": {
   "hash": "d36ee4a736f0b91ef898179c83c0a5086350074d7c561bc44505fde850b12c59"
  },
  "kernelspec": {
   "display_name": "Python 3.10.2 ('ids705')",
   "language": "python",
   "name": "python3"
  },
  "language_info": {
   "codemirror_mode": {
    "name": "ipython",
    "version": 3
   },
   "file_extension": ".py",
   "mimetype": "text/x-python",
   "name": "python",
   "nbconvert_exporter": "python",
   "pygments_lexer": "ipython3",
   "version": "3.10.2"
  },
  "orig_nbformat": 4
 },
 "nbformat": 4,
 "nbformat_minor": 2
}
